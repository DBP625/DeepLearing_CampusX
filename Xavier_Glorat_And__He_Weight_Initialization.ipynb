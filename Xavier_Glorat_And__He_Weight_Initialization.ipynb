{
  "nbformat": 4,
  "nbformat_minor": 0,
  "metadata": {
    "colab": {
      "provenance": [],
      "include_colab_link": true
    },
    "kernelspec": {
      "name": "python3",
      "display_name": "Python 3"
    },
    "language_info": {
      "name": "python"
    }
  },
  "cells": [
    {
      "cell_type": "markdown",
      "metadata": {
        "id": "view-in-github",
        "colab_type": "text"
      },
      "source": [
        "<a href=\"https://colab.research.google.com/github/DBP625/DeepLearing_CampusX/blob/master/Xavier_Glorat_And__He_Weight_Initialization.ipynb\" target=\"_parent\"><img src=\"https://colab.research.google.com/assets/colab-badge.svg\" alt=\"Open In Colab\"/></a>"
      ]
    },
    {
      "cell_type": "code",
      "execution_count": null,
      "metadata": {
        "id": "cKVzInXrteyO"
      },
      "outputs": [],
      "source": [
        "import numpy as np\n",
        "import pandas as pd\n",
        "import matplotlib.pyplot as plt"
      ]
    },
    {
      "cell_type": "code",
      "source": [
        "df = pd.read_csv('ushape1.csv')"
      ],
      "metadata": {
        "id": "l-CtLegnti3_"
      },
      "execution_count": null,
      "outputs": []
    },
    {
      "cell_type": "code",
      "source": [
        "df.head()"
      ],
      "metadata": {
        "colab": {
          "base_uri": "https://localhost:8080/",
          "height": 206
        },
        "id": "T9P8j9Ubtt9t",
        "outputId": "ada166a1-8a5b-4f65-fc02-af7474a53696"
      },
      "execution_count": null,
      "outputs": [
        {
          "output_type": "execute_result",
          "data": {
            "text/plain": [
              "          X         Y  class\n",
              "0  2.115098 -0.046244    1.0\n",
              "1  0.882490 -0.075756    0.0\n",
              "2 -0.055144 -0.037332    1.0\n",
              "3  0.829545 -0.539321    1.0\n",
              "4  2.112857  0.662084    1.0"
            ],
            "text/html": [
              "\n",
              "  <div id=\"df-76929b9a-4f78-4ae1-bfc8-df81d1fe9d90\" class=\"colab-df-container\">\n",
              "    <div>\n",
              "<style scoped>\n",
              "    .dataframe tbody tr th:only-of-type {\n",
              "        vertical-align: middle;\n",
              "    }\n",
              "\n",
              "    .dataframe tbody tr th {\n",
              "        vertical-align: top;\n",
              "    }\n",
              "\n",
              "    .dataframe thead th {\n",
              "        text-align: right;\n",
              "    }\n",
              "</style>\n",
              "<table border=\"1\" class=\"dataframe\">\n",
              "  <thead>\n",
              "    <tr style=\"text-align: right;\">\n",
              "      <th></th>\n",
              "      <th>X</th>\n",
              "      <th>Y</th>\n",
              "      <th>class</th>\n",
              "    </tr>\n",
              "  </thead>\n",
              "  <tbody>\n",
              "    <tr>\n",
              "      <th>0</th>\n",
              "      <td>2.115098</td>\n",
              "      <td>-0.046244</td>\n",
              "      <td>1.0</td>\n",
              "    </tr>\n",
              "    <tr>\n",
              "      <th>1</th>\n",
              "      <td>0.882490</td>\n",
              "      <td>-0.075756</td>\n",
              "      <td>0.0</td>\n",
              "    </tr>\n",
              "    <tr>\n",
              "      <th>2</th>\n",
              "      <td>-0.055144</td>\n",
              "      <td>-0.037332</td>\n",
              "      <td>1.0</td>\n",
              "    </tr>\n",
              "    <tr>\n",
              "      <th>3</th>\n",
              "      <td>0.829545</td>\n",
              "      <td>-0.539321</td>\n",
              "      <td>1.0</td>\n",
              "    </tr>\n",
              "    <tr>\n",
              "      <th>4</th>\n",
              "      <td>2.112857</td>\n",
              "      <td>0.662084</td>\n",
              "      <td>1.0</td>\n",
              "    </tr>\n",
              "  </tbody>\n",
              "</table>\n",
              "</div>\n",
              "    <div class=\"colab-df-buttons\">\n",
              "\n",
              "  <div class=\"colab-df-container\">\n",
              "    <button class=\"colab-df-convert\" onclick=\"convertToInteractive('df-76929b9a-4f78-4ae1-bfc8-df81d1fe9d90')\"\n",
              "            title=\"Convert this dataframe to an interactive table.\"\n",
              "            style=\"display:none;\">\n",
              "\n",
              "  <svg xmlns=\"http://www.w3.org/2000/svg\" height=\"24px\" viewBox=\"0 -960 960 960\">\n",
              "    <path d=\"M120-120v-720h720v720H120Zm60-500h600v-160H180v160Zm220 220h160v-160H400v160Zm0 220h160v-160H400v160ZM180-400h160v-160H180v160Zm440 0h160v-160H620v160ZM180-180h160v-160H180v160Zm440 0h160v-160H620v160Z\"/>\n",
              "  </svg>\n",
              "    </button>\n",
              "\n",
              "  <style>\n",
              "    .colab-df-container {\n",
              "      display:flex;\n",
              "      gap: 12px;\n",
              "    }\n",
              "\n",
              "    .colab-df-convert {\n",
              "      background-color: #E8F0FE;\n",
              "      border: none;\n",
              "      border-radius: 50%;\n",
              "      cursor: pointer;\n",
              "      display: none;\n",
              "      fill: #1967D2;\n",
              "      height: 32px;\n",
              "      padding: 0 0 0 0;\n",
              "      width: 32px;\n",
              "    }\n",
              "\n",
              "    .colab-df-convert:hover {\n",
              "      background-color: #E2EBFA;\n",
              "      box-shadow: 0px 1px 2px rgba(60, 64, 67, 0.3), 0px 1px 3px 1px rgba(60, 64, 67, 0.15);\n",
              "      fill: #174EA6;\n",
              "    }\n",
              "\n",
              "    .colab-df-buttons div {\n",
              "      margin-bottom: 4px;\n",
              "    }\n",
              "\n",
              "    [theme=dark] .colab-df-convert {\n",
              "      background-color: #3B4455;\n",
              "      fill: #D2E3FC;\n",
              "    }\n",
              "\n",
              "    [theme=dark] .colab-df-convert:hover {\n",
              "      background-color: #434B5C;\n",
              "      box-shadow: 0px 1px 3px 1px rgba(0, 0, 0, 0.15);\n",
              "      filter: drop-shadow(0px 1px 2px rgba(0, 0, 0, 0.3));\n",
              "      fill: #FFFFFF;\n",
              "    }\n",
              "  </style>\n",
              "\n",
              "    <script>\n",
              "      const buttonEl =\n",
              "        document.querySelector('#df-76929b9a-4f78-4ae1-bfc8-df81d1fe9d90 button.colab-df-convert');\n",
              "      buttonEl.style.display =\n",
              "        google.colab.kernel.accessAllowed ? 'block' : 'none';\n",
              "\n",
              "      async function convertToInteractive(key) {\n",
              "        const element = document.querySelector('#df-76929b9a-4f78-4ae1-bfc8-df81d1fe9d90');\n",
              "        const dataTable =\n",
              "          await google.colab.kernel.invokeFunction('convertToInteractive',\n",
              "                                                    [key], {});\n",
              "        if (!dataTable) return;\n",
              "\n",
              "        const docLinkHtml = 'Like what you see? Visit the ' +\n",
              "          '<a target=\"_blank\" href=https://colab.research.google.com/notebooks/data_table.ipynb>data table notebook</a>'\n",
              "          + ' to learn more about interactive tables.';\n",
              "        element.innerHTML = '';\n",
              "        dataTable['output_type'] = 'display_data';\n",
              "        await google.colab.output.renderOutput(dataTable, element);\n",
              "        const docLink = document.createElement('div');\n",
              "        docLink.innerHTML = docLinkHtml;\n",
              "        element.appendChild(docLink);\n",
              "      }\n",
              "    </script>\n",
              "  </div>\n",
              "\n",
              "\n",
              "    <div id=\"df-9d869f24-3a41-4ebb-b33d-2e4cd4995a63\">\n",
              "      <button class=\"colab-df-quickchart\" onclick=\"quickchart('df-9d869f24-3a41-4ebb-b33d-2e4cd4995a63')\"\n",
              "                title=\"Suggest charts\"\n",
              "                style=\"display:none;\">\n",
              "\n",
              "<svg xmlns=\"http://www.w3.org/2000/svg\" height=\"24px\"viewBox=\"0 0 24 24\"\n",
              "     width=\"24px\">\n",
              "    <g>\n",
              "        <path d=\"M19 3H5c-1.1 0-2 .9-2 2v14c0 1.1.9 2 2 2h14c1.1 0 2-.9 2-2V5c0-1.1-.9-2-2-2zM9 17H7v-7h2v7zm4 0h-2V7h2v10zm4 0h-2v-4h2v4z\"/>\n",
              "    </g>\n",
              "</svg>\n",
              "      </button>\n",
              "\n",
              "<style>\n",
              "  .colab-df-quickchart {\n",
              "      --bg-color: #E8F0FE;\n",
              "      --fill-color: #1967D2;\n",
              "      --hover-bg-color: #E2EBFA;\n",
              "      --hover-fill-color: #174EA6;\n",
              "      --disabled-fill-color: #AAA;\n",
              "      --disabled-bg-color: #DDD;\n",
              "  }\n",
              "\n",
              "  [theme=dark] .colab-df-quickchart {\n",
              "      --bg-color: #3B4455;\n",
              "      --fill-color: #D2E3FC;\n",
              "      --hover-bg-color: #434B5C;\n",
              "      --hover-fill-color: #FFFFFF;\n",
              "      --disabled-bg-color: #3B4455;\n",
              "      --disabled-fill-color: #666;\n",
              "  }\n",
              "\n",
              "  .colab-df-quickchart {\n",
              "    background-color: var(--bg-color);\n",
              "    border: none;\n",
              "    border-radius: 50%;\n",
              "    cursor: pointer;\n",
              "    display: none;\n",
              "    fill: var(--fill-color);\n",
              "    height: 32px;\n",
              "    padding: 0;\n",
              "    width: 32px;\n",
              "  }\n",
              "\n",
              "  .colab-df-quickchart:hover {\n",
              "    background-color: var(--hover-bg-color);\n",
              "    box-shadow: 0 1px 2px rgba(60, 64, 67, 0.3), 0 1px 3px 1px rgba(60, 64, 67, 0.15);\n",
              "    fill: var(--button-hover-fill-color);\n",
              "  }\n",
              "\n",
              "  .colab-df-quickchart-complete:disabled,\n",
              "  .colab-df-quickchart-complete:disabled:hover {\n",
              "    background-color: var(--disabled-bg-color);\n",
              "    fill: var(--disabled-fill-color);\n",
              "    box-shadow: none;\n",
              "  }\n",
              "\n",
              "  .colab-df-spinner {\n",
              "    border: 2px solid var(--fill-color);\n",
              "    border-color: transparent;\n",
              "    border-bottom-color: var(--fill-color);\n",
              "    animation:\n",
              "      spin 1s steps(1) infinite;\n",
              "  }\n",
              "\n",
              "  @keyframes spin {\n",
              "    0% {\n",
              "      border-color: transparent;\n",
              "      border-bottom-color: var(--fill-color);\n",
              "      border-left-color: var(--fill-color);\n",
              "    }\n",
              "    20% {\n",
              "      border-color: transparent;\n",
              "      border-left-color: var(--fill-color);\n",
              "      border-top-color: var(--fill-color);\n",
              "    }\n",
              "    30% {\n",
              "      border-color: transparent;\n",
              "      border-left-color: var(--fill-color);\n",
              "      border-top-color: var(--fill-color);\n",
              "      border-right-color: var(--fill-color);\n",
              "    }\n",
              "    40% {\n",
              "      border-color: transparent;\n",
              "      border-right-color: var(--fill-color);\n",
              "      border-top-color: var(--fill-color);\n",
              "    }\n",
              "    60% {\n",
              "      border-color: transparent;\n",
              "      border-right-color: var(--fill-color);\n",
              "    }\n",
              "    80% {\n",
              "      border-color: transparent;\n",
              "      border-right-color: var(--fill-color);\n",
              "      border-bottom-color: var(--fill-color);\n",
              "    }\n",
              "    90% {\n",
              "      border-color: transparent;\n",
              "      border-bottom-color: var(--fill-color);\n",
              "    }\n",
              "  }\n",
              "</style>\n",
              "\n",
              "      <script>\n",
              "        async function quickchart(key) {\n",
              "          const quickchartButtonEl =\n",
              "            document.querySelector('#' + key + ' button');\n",
              "          quickchartButtonEl.disabled = true;  // To prevent multiple clicks.\n",
              "          quickchartButtonEl.classList.add('colab-df-spinner');\n",
              "          try {\n",
              "            const charts = await google.colab.kernel.invokeFunction(\n",
              "                'suggestCharts', [key], {});\n",
              "          } catch (error) {\n",
              "            console.error('Error during call to suggestCharts:', error);\n",
              "          }\n",
              "          quickchartButtonEl.classList.remove('colab-df-spinner');\n",
              "          quickchartButtonEl.classList.add('colab-df-quickchart-complete');\n",
              "        }\n",
              "        (() => {\n",
              "          let quickchartButtonEl =\n",
              "            document.querySelector('#df-9d869f24-3a41-4ebb-b33d-2e4cd4995a63 button');\n",
              "          quickchartButtonEl.style.display =\n",
              "            google.colab.kernel.accessAllowed ? 'block' : 'none';\n",
              "        })();\n",
              "      </script>\n",
              "    </div>\n",
              "\n",
              "    </div>\n",
              "  </div>\n"
            ],
            "application/vnd.google.colaboratory.intrinsic+json": {
              "type": "dataframe",
              "variable_name": "df",
              "summary": "{\n  \"name\": \"df\",\n  \"rows\": 99,\n  \"fields\": [\n    {\n      \"column\": \"X\",\n      \"properties\": {\n        \"dtype\": \"number\",\n        \"std\": 0.8943130566096507,\n        \"min\": -1.318500344394381,\n        \"max\": 2.181371683049025,\n        \"num_unique_values\": 99,\n        \"samples\": [\n          0.1273314190904385,\n          0.6417403675063451,\n          0.2186232335250059\n        ],\n        \"semantic_type\": \"\",\n        \"description\": \"\"\n      }\n    },\n    {\n      \"column\": \"Y\",\n      \"properties\": {\n        \"dtype\": \"number\",\n        \"std\": 0.5909086142970595,\n        \"min\": -1.0357020680498332,\n        \"max\": 1.5718993127141032,\n        \"num_unique_values\": 99,\n        \"samples\": [\n          -0.3796548967118949,\n          -0.3936946837063957,\n          -0.6525211867631453\n        ],\n        \"semantic_type\": \"\",\n        \"description\": \"\"\n      }\n    },\n    {\n      \"column\": \"class\",\n      \"properties\": {\n        \"dtype\": \"number\",\n        \"std\": 0.5025189076296059,\n        \"min\": 0.0,\n        \"max\": 1.0,\n        \"num_unique_values\": 2,\n        \"samples\": [\n          0.0,\n          1.0\n        ],\n        \"semantic_type\": \"\",\n        \"description\": \"\"\n      }\n    }\n  ]\n}"
            }
          },
          "metadata": {},
          "execution_count": 3
        }
      ]
    },
    {
      "cell_type": "code",
      "source": [
        "plt.scatter(df['X'],df['Y'],c=df['class'])"
      ],
      "metadata": {
        "colab": {
          "base_uri": "https://localhost:8080/",
          "height": 447
        },
        "id": "ZuYqGD_mtuQG",
        "outputId": "471e87c3-275e-42e6-85e0-b796c15ca043"
      },
      "execution_count": null,
      "outputs": [
        {
          "output_type": "execute_result",
          "data": {
            "text/plain": [
              "<matplotlib.collections.PathCollection at 0x7f6b3065c750>"
            ]
          },
          "metadata": {},
          "execution_count": 4
        },
        {
          "output_type": "display_data",
          "data": {
            "text/plain": [
              "<Figure size 640x480 with 1 Axes>"
            ],
            "image/png": "[encoded data removed]"
          },
          "metadata": {}
        }
      ]
    },
    {
      "cell_type": "code",
      "source": [
        "X = df.iloc[:,0:2].values\n",
        "y = df.iloc[:,-1].values"
      ],
      "metadata": {
        "id": "nwXuHnqhtwEJ"
      },
      "execution_count": null,
      "outputs": []
    },
    {
      "cell_type": "code",
      "source": [
        "import tensorflow\n",
        "from tensorflow import keras\n",
        "from keras import Sequential\n",
        "from keras.layers import Dense"
      ],
      "metadata": {
        "id": "ylDVIM8Ltx0H"
      },
      "execution_count": null,
      "outputs": []
    },
    {
      "cell_type": "code",
      "source": [
        "model = Sequential()\n",
        "\n",
        "model.add(Dense(10,activation='relu',input_dim=2,kernel_initializer='he_normal'))\n",
        "model.add(Dense(10,activation='relu',kernel_initializer='he_normal'))\n",
        "model.add(Dense(10,activation='relu',kernel_initializer='he_normal'))\n",
        "model.add(Dense(10,activation='relu',kernel_initializer='he_normal'))\n",
        "\n",
        "\n",
        "model.add(Dense(1,activation='sigmoid'))\n",
        "\n",
        "model.summary()"
      ],
      "metadata": {
        "colab": {
          "base_uri": "https://localhost:8080/",
          "height": 344
        },
        "id": "id8rhK5OtzVX",
        "outputId": "acdfd36c-2d98-44b1-8e51-23631dbe6472"
      },
      "execution_count": null,
      "outputs": [
        {
          "output_type": "stream",
          "name": "stderr",
          "text": [
            "/usr/local/lib/python3.11/dist-packages/keras/src/layers/core/dense.py:87: UserWarning: Do not pass an `input_shape`/`input_dim` argument to a layer. When using Sequential models, prefer using an `Input(shape)` object as the first layer in the model instead.\n",
            "  super().__init__(activity_regularizer=activity_regularizer, **kwargs)\n"
          ]
        },
        {
          "output_type": "display_data",
          "data": {
            "text/plain": [
              "\u001b[1mModel: \"sequential\"\u001b[0m\n"
            ],
            "text/html": [
              "<pre style=\"white-space:pre;overflow-x:auto;line-height:normal;font-family:Menlo,'DejaVu Sans Mono',consolas,'Courier New',monospace\"><span style=\"font-weight: bold\">Model: \"sequential\"</span>\n",
              "</pre>\n"
            ]
          },
          "metadata": {}
        },
        {
          "output_type": "display_data",
          "data": {
            "text/plain": [
              "┏━━━━━━━━━━━━━━━━━━━━━━━━━━━━━━━━━┳━━━━━━━━━━━━━━━━━━━━━━━━┳━━━━━━━━━━━━━━━┓\n",
              "┃\u001b[1m \u001b[0m\u001b[1mLayer (type)                   \u001b[0m\u001b[1m \u001b[0m┃\u001b[1m \u001b[0m\u001b[1mOutput Shape          \u001b[0m\u001b[1m \u001b[0m┃\u001b[1m \u001b[0m\u001b[1m      Param #\u001b[0m\u001b[1m \u001b[0m┃\n",
              "┡━━━━━━━━━━━━━━━━━━━━━━━━━━━━━━━━━╇━━━━━━━━━━━━━━━━━━━━━━━━╇━━━━━━━━━━━━━━━┩\n",
              "│ dense (\u001b[38;5;33mDense\u001b[0m)                   │ (\u001b[38;5;45mNone\u001b[0m, \u001b[38;5;34m10\u001b[0m)             │            \u001b[38;5;34m30\u001b[0m │\n",
              "├─────────────────────────────────┼────────────────────────┼───────────────┤\n",
              "│ dense_1 (\u001b[38;5;33mDense\u001b[0m)                 │ (\u001b[38;5;45mNone\u001b[0m, \u001b[38;5;34m10\u001b[0m)             │           \u001b[38;5;34m110\u001b[0m │\n",
              "├─────────────────────────────────┼────────────────────────┼───────────────┤\n",
              "│ dense_2 (\u001b[38;5;33mDense\u001b[0m)                 │ (\u001b[38;5;45mNone\u001b[0m, \u001b[38;5;34m10\u001b[0m)             │           \u001b[38;5;34m110\u001b[0m │\n",
              "├─────────────────────────────────┼────────────────────────┼───────────────┤\n",
              "│ dense_3 (\u001b[38;5;33mDense\u001b[0m)                 │ (\u001b[38;5;45mNone\u001b[0m, \u001b[38;5;34m10\u001b[0m)             │           \u001b[38;5;34m110\u001b[0m │\n",
              "├─────────────────────────────────┼────────────────────────┼───────────────┤\n",
              "│ dense_4 (\u001b[38;5;33mDense\u001b[0m)                 │ (\u001b[38;5;45mNone\u001b[0m, \u001b[38;5;34m1\u001b[0m)              │            \u001b[38;5;34m11\u001b[0m │\n",
              "└─────────────────────────────────┴────────────────────────┴───────────────┘\n"
            ],
            "text/html": [
              "<pre style=\"white-space:pre;overflow-x:auto;line-height:normal;font-family:Menlo,'DejaVu Sans Mono',consolas,'Courier New',monospace\">┏━━━━━━━━━━━━━━━━━━━━━━━━━━━━━━━━━┳━━━━━━━━━━━━━━━━━━━━━━━━┳━━━━━━━━━━━━━━━┓\n",
              "┃<span style=\"font-weight: bold\"> Layer (type)                    </span>┃<span style=\"font-weight: bold\"> Output Shape           </span>┃<span style=\"font-weight: bold\">       Param # </span>┃\n",
              "┡━━━━━━━━━━━━━━━━━━━━━━━━━━━━━━━━━╇━━━━━━━━━━━━━━━━━━━━━━━━╇━━━━━━━━━━━━━━━┩\n",
              "│ dense (<span style=\"color: #0087ff; text-decoration-color: #0087ff\">Dense</span>)                   │ (<span style=\"color: #00d7ff; text-decoration-color: #00d7ff\">None</span>, <span style=\"color: #00af00; text-decoration-color: #00af00\">10</span>)             │            <span style=\"color: #00af00; text-decoration-color: #00af00\">30</span> │\n",
              "├─────────────────────────────────┼────────────────────────┼───────────────┤\n",
              "│ dense_1 (<span style=\"color: #0087ff; text-decoration-color: #0087ff\">Dense</span>)                 │ (<span style=\"color: #00d7ff; text-decoration-color: #00d7ff\">None</span>, <span style=\"color: #00af00; text-decoration-color: #00af00\">10</span>)             │           <span style=\"color: #00af00; text-decoration-color: #00af00\">110</span> │\n",
              "├─────────────────────────────────┼────────────────────────┼───────────────┤\n",
              "│ dense_2 (<span style=\"color: #0087ff; text-decoration-color: #0087ff\">Dense</span>)                 │ (<span style=\"color: #00d7ff; text-decoration-color: #00d7ff\">None</span>, <span style=\"color: #00af00; text-decoration-color: #00af00\">10</span>)             │           <span style=\"color: #00af00; text-decoration-color: #00af00\">110</span> │\n",
              "├─────────────────────────────────┼────────────────────────┼───────────────┤\n",
              "│ dense_3 (<span style=\"color: #0087ff; text-decoration-color: #0087ff\">Dense</span>)                 │ (<span style=\"color: #00d7ff; text-decoration-color: #00d7ff\">None</span>, <span style=\"color: #00af00; text-decoration-color: #00af00\">10</span>)             │           <span style=\"color: #00af00; text-decoration-color: #00af00\">110</span> │\n",
              "├─────────────────────────────────┼────────────────────────┼───────────────┤\n",
              "│ dense_4 (<span style=\"color: #0087ff; text-decoration-color: #0087ff\">Dense</span>)                 │ (<span style=\"color: #00d7ff; text-decoration-color: #00d7ff\">None</span>, <span style=\"color: #00af00; text-decoration-color: #00af00\">1</span>)              │            <span style=\"color: #00af00; text-decoration-color: #00af00\">11</span> │\n",
              "└─────────────────────────────────┴────────────────────────┴───────────────┘\n",
              "</pre>\n"
            ]
          },
          "metadata": {}
        },
        {
          "output_type": "display_data",
          "data": {
            "text/plain": [
              "\u001b[1m Total params: \u001b[0m\u001b[38;5;34m371\u001b[0m (1.45 KB)\n"
            ],
            "text/html": [
              "<pre style=\"white-space:pre;overflow-x:auto;line-height:normal;font-family:Menlo,'DejaVu Sans Mono',consolas,'Courier New',monospace\"><span style=\"font-weight: bold\"> Total params: </span><span style=\"color: #00af00; text-decoration-color: #00af00\">371</span> (1.45 KB)\n",
              "</pre>\n"
            ]
          },
          "metadata": {}
        },
        {
          "output_type": "display_data",
          "data": {
            "text/plain": [
              "\u001b[1m Trainable params: \u001b[0m\u001b[38;5;34m371\u001b[0m (1.45 KB)\n"
            ],
            "text/html": [
              "<pre style=\"white-space:pre;overflow-x:auto;line-height:normal;font-family:Menlo,'DejaVu Sans Mono',consolas,'Courier New',monospace\"><span style=\"font-weight: bold\"> Trainable params: </span><span style=\"color: #00af00; text-decoration-color: #00af00\">371</span> (1.45 KB)\n",
              "</pre>\n"
            ]
          },
          "metadata": {}
        },
        {
          "output_type": "display_data",
          "data": {
            "text/plain": [
              "\u001b[1m Non-trainable params: \u001b[0m\u001b[38;5;34m0\u001b[0m (0.00 B)\n"
            ],
            "text/html": [
              "<pre style=\"white-space:pre;overflow-x:auto;line-height:normal;font-family:Menlo,'DejaVu Sans Mono',consolas,'Courier New',monospace\"><span style=\"font-weight: bold\"> Non-trainable params: </span><span style=\"color: #00af00; text-decoration-color: #00af00\">0</span> (0.00 B)\n",
              "</pre>\n"
            ]
          },
          "metadata": {}
        }
      ]
    },
    {
      "cell_type": "code",
      "source": [
        "model.get_weights()"
      ],
      "metadata": {
        "colab": {
          "base_uri": "https://localhost:8080/"
        },
        "id": "YjST2L1qt1UP",
        "outputId": "c34e4d5c-1dec-4b22-d17a-547253e7d3b5"
      },
      "execution_count": null,
      "outputs": [
        {
          "output_type": "execute_result",
          "data": {
            "text/plain": [
              "[array([[ 0.6482808 , -0.18381914, -1.5204693 ,  0.58834475,  0.89599955,\n",
              "          1.9254491 , -0.51174235,  0.5222703 , -0.28147689,  1.1271497 ],\n",
              "        [-0.26797062, -1.7538387 , -0.08909436, -1.7326466 ,  0.20473227,\n",
              "         -0.24611102, -0.43030545, -1.082031  ,  0.77061325,  1.1637594 ]],\n",
              "       dtype=float32),\n",
              " array([0., 0., 0., 0., 0., 0., 0., 0., 0., 0.], dtype=float32),\n",
              " array([[ 0.33735472, -1.0032651 , -0.18682633,  0.5341372 , -0.6600105 ,\n",
              "          0.02798445, -0.9317718 ,  0.8270221 , -0.4948404 , -0.09053537],\n",
              "        [ 0.50740546, -0.00962424, -0.4386515 ,  0.6671644 ,  0.16730103,\n",
              "         -0.33710602,  0.51003927,  0.35801727, -0.4560266 ,  0.2651994 ],\n",
              "        [-0.14458103,  0.4524857 ,  0.34210068, -0.34610692, -0.4699453 ,\n",
              "         -0.8258487 , -0.7922823 ,  0.20955166,  0.59990513,  0.5083649 ],\n",
              "        [ 0.20776387,  0.84209985, -0.6233714 , -0.06614647,  0.09053252,\n",
              "          0.68426305,  0.02468224,  0.74672395,  0.04761447, -0.4010663 ],\n",
              "        [ 0.12429769,  0.12181726,  0.89076406,  0.06922089, -0.10857335,\n",
              "         -0.35621572,  0.44534618, -0.5748254 ,  0.073225  , -1.0012227 ],\n",
              "        [ 0.09476392, -0.767634  , -0.07009061,  0.2916771 ,  0.7366954 ,\n",
              "         -0.11729422,  0.6632589 , -0.16437383,  0.24601129, -0.21721555],\n",
              "        [ 0.2815187 , -0.5545583 , -0.91651654, -0.40829667, -0.06437711,\n",
              "          0.15355723,  0.71039134,  0.18427296, -0.4157115 ,  0.12454015],\n",
              "        [-0.13528652, -0.3793757 , -0.5795227 ,  0.9408906 ,  0.11290303,\n",
              "         -0.11082169, -0.2506114 , -0.95351887, -0.78581417, -0.00696969],\n",
              "        [-0.8973212 , -0.9601934 ,  0.43518066,  0.84220755, -0.00916245,\n",
              "         -0.07974527, -0.3039132 ,  0.20894063, -0.33443233, -1.0086161 ],\n",
              "        [-0.01492178, -0.24248412,  0.5224511 ,  0.5384894 ,  0.8686406 ,\n",
              "         -0.8723978 , -0.43437907, -0.21135841, -0.26535007, -0.49676004]],\n",
              "       dtype=float32),\n",
              " array([0., 0., 0., 0., 0., 0., 0., 0., 0., 0.], dtype=float32),\n",
              " array([[ 0.11196338, -0.28479984,  0.3770978 ,  0.4585088 ,  0.18437874,\n",
              "          0.18695399,  0.12680626,  0.81817687, -0.72889304,  0.27979252],\n",
              "        [-0.0024799 , -0.263031  ,  0.29256585,  0.16913319,  0.11190275,\n",
              "          0.34891158,  0.8051695 , -0.47392982, -0.2911519 , -0.07159924],\n",
              "        [ 0.04026419,  0.07209263,  0.23235334, -0.9591982 , -0.17247216,\n",
              "          1.0044029 ,  0.18180788,  0.31173292, -0.08967766,  0.44281214],\n",
              "        [ 0.07194284, -0.09297714,  0.361208  ,  0.07529881,  0.29369444,\n",
              "          0.6776368 , -0.16137497, -0.33955225, -0.31191936,  0.5390524 ],\n",
              "        [-0.5230195 , -0.29970407,  0.01974248,  0.4532461 ,  0.73934156,\n",
              "          0.0456109 , -0.9720027 , -0.08329162, -0.21077709, -0.41625342],\n",
              "        [ 0.07535662, -0.0511983 ,  0.40556794, -0.26025113,  0.51917243,\n",
              "          0.73139304,  0.12446925,  0.16673483,  0.88768065, -0.7931391 ],\n",
              "        [-0.5240048 , -0.5468    ,  0.014527  , -0.513605  , -0.38238034,\n",
              "         -0.53831136,  0.15425605,  0.04730794, -0.10637631, -0.06594949],\n",
              "        [ 0.5643888 , -0.04754625, -0.29403067,  0.260598  , -0.19557127,\n",
              "         -0.47471938, -0.6968114 ,  0.87645143,  0.42530352, -0.7012702 ],\n",
              "        [-0.9117066 ,  0.4919692 , -0.26023564, -0.22717172,  0.04207562,\n",
              "          0.16827598,  0.5385088 ,  0.8494239 , -0.02963179, -0.40747854],\n",
              "        [-0.1331361 , -0.8475185 ,  0.32683915,  0.3115265 ,  0.5240645 ,\n",
              "          0.38339928, -0.88179094, -0.09633744,  0.3250462 ,  0.83599555]],\n",
              "       dtype=float32),\n",
              " array([0., 0., 0., 0., 0., 0., 0., 0., 0., 0.], dtype=float32),\n",
              " array([[ 0.7735476 , -0.7381018 ,  0.35757148, -0.5919743 ,  0.44371653,\n",
              "         -0.37353677, -0.2321203 ,  0.05500249,  0.10283725, -0.25943714],\n",
              "        [ 0.02028393,  0.03625067,  0.70278496, -0.2617587 , -0.20265688,\n",
              "          0.721227  , -0.33360067,  0.83945155,  0.5091184 ,  0.23859942],\n",
              "        [-0.84928066, -0.9126695 , -0.46904546, -0.3126702 ,  0.3328736 ,\n",
              "         -0.26822373, -0.04198235, -0.08993278, -0.37808043, -0.53099346],\n",
              "        [ 0.4514977 ,  0.87098473,  0.68485624, -0.9721552 , -0.19788499,\n",
              "         -0.5439349 , -0.632393  ,  0.40530634,  0.08527353, -0.5349983 ],\n",
              "        [ 0.75574434, -0.2521762 ,  0.7912106 , -0.15256563,  0.42579153,\n",
              "         -0.08680715, -0.18409984, -0.11097573,  0.37572715, -0.22238155],\n",
              "        [-0.2728569 , -0.29758614,  0.10270302,  0.8740111 ,  0.48556155,\n",
              "         -0.5191924 , -0.41902417,  0.33309358,  0.64443845, -0.0354654 ],\n",
              "        [ 0.03795347, -0.26177147, -0.06565662, -0.3679094 ,  0.96317   ,\n",
              "         -0.30982322,  0.48895165, -0.21547896, -0.8070569 , -0.7940363 ],\n",
              "        [ 0.32744622, -0.18026857,  0.3209098 , -0.04492679, -0.53603464,\n",
              "         -0.16212566,  0.01265933, -0.33843145, -0.03266081, -0.48419774],\n",
              "        [-0.46712166,  0.23352341, -0.16270497, -0.45751092, -0.02634926,\n",
              "          0.51557213, -0.01918545,  0.25213805,  0.55272746,  0.28500918],\n",
              "        [-0.5128934 ,  0.438593  , -0.13664886, -0.51130897, -0.01506357,\n",
              "          0.02248322,  0.2848136 , -0.28992325,  0.8229564 , -0.849012  ]],\n",
              "       dtype=float32),\n",
              " array([0., 0., 0., 0., 0., 0., 0., 0., 0., 0.], dtype=float32),\n",
              " array([[ 0.68023497],\n",
              "        [-0.5457183 ],\n",
              "        [ 0.4715932 ],\n",
              "        [ 0.5283547 ],\n",
              "        [ 0.691495  ],\n",
              "        [ 0.27439457],\n",
              "        [ 0.732649  ],\n",
              "        [-0.28549716],\n",
              "        [-0.3695819 ],\n",
              "        [-0.3992353 ]], dtype=float32),\n",
              " array([0.], dtype=float32)]"
            ]
          },
          "metadata": {},
          "execution_count": 8
        }
      ]
    },
    {
      "cell_type": "code",
      "source": [
        "initial_weights = model.get_weights()"
      ],
      "metadata": {
        "id": "SNnRle4Dt4bc"
      },
      "execution_count": null,
      "outputs": []
    },
    {
      "cell_type": "markdown",
      "source": [
        "No of input -> n\n",
        "multiply by root(1/2)"
      ],
      "metadata": {
        "id": "D46w_NrPqOap"
      }
    },
    {
      "cell_type": "code",
      "source": [
        "initial_weights[0] = np.random.randn(2,10)*np.sqrt(1/2)\n",
        "initial_weights[1] = np.zeros(model.get_weights()[1].shape)\n",
        "initial_weights[2] = np.random.randn(10,10)*np.sqrt(1/10)\n",
        "initial_weights[3] = np.zeros(model.get_weights()[3].shape)\n",
        "initial_weights[4] = np.random.randn(10,10)*np.sqrt(1/10)\n",
        "initial_weights[5] = np.zeros(model.get_weights()[5].shape)\n",
        "initial_weights[6] = np.random.randn(10,10)*np.sqrt(1/10)\n",
        "initial_weights[7] = np.zeros(model.get_weights()[7].shape)\n",
        "initial_weights[8] = np.random.randn(10,1)*np.sqrt(1/10)\n",
        "initial_weights[9] = np.zeros(model.get_weights()[9].shape)"
      ],
      "metadata": {
        "id": "T6mklkSot6GI",
        "outputId": "e26877e7-2e3f-4974-8068-139cf882c885",
        "colab": {
          "base_uri": "https://localhost:8080/",
          "height": 211
        }
      },
      "execution_count": 1,
      "outputs": [
        {
          "output_type": "error",
          "ename": "NameError",
          "evalue": "name 'np' is not defined",
          "traceback": [
            "\u001b[0;31m---------------------------------------------------------------------------\u001b[0m",
            "\u001b[0;31mNameError\u001b[0m                                 Traceback (most recent call last)",
            "\u001b[0;32m/tmp/ipython-input-198655362.py\u001b[0m in \u001b[0;36m<cell line: 0>\u001b[0;34m()\u001b[0m\n\u001b[0;32m----> 1\u001b[0;31m \u001b[0minitial_weights\u001b[0m\u001b[0;34m[\u001b[0m\u001b[0;36m0\u001b[0m\u001b[0;34m]\u001b[0m \u001b[0;34m=\u001b[0m \u001b[0mnp\u001b[0m\u001b[0;34m.\u001b[0m\u001b[0mrandom\u001b[0m\u001b[0;34m.\u001b[0m\u001b[0mrandn\u001b[0m\u001b[0;34m(\u001b[0m\u001b[0;36m2\u001b[0m\u001b[0;34m,\u001b[0m\u001b[0;36m10\u001b[0m\u001b[0;34m)\u001b[0m\u001b[0;34m*\u001b[0m\u001b[0mnp\u001b[0m\u001b[0;34m.\u001b[0m\u001b[0msqrt\u001b[0m\u001b[0;34m(\u001b[0m\u001b[0;36m1\u001b[0m\u001b[0;34m/\u001b[0m\u001b[0;36m2\u001b[0m\u001b[0;34m)\u001b[0m\u001b[0;34m\u001b[0m\u001b[0;34m\u001b[0m\u001b[0m\n\u001b[0m\u001b[1;32m      2\u001b[0m \u001b[0minitial_weights\u001b[0m\u001b[0;34m[\u001b[0m\u001b[0;36m1\u001b[0m\u001b[0;34m]\u001b[0m \u001b[0;34m=\u001b[0m \u001b[0mnp\u001b[0m\u001b[0;34m.\u001b[0m\u001b[0mzeros\u001b[0m\u001b[0;34m(\u001b[0m\u001b[0mmodel\u001b[0m\u001b[0;34m.\u001b[0m\u001b[0mget_weights\u001b[0m\u001b[0;34m(\u001b[0m\u001b[0;34m)\u001b[0m\u001b[0;34m[\u001b[0m\u001b[0;36m1\u001b[0m\u001b[0;34m]\u001b[0m\u001b[0;34m.\u001b[0m\u001b[0mshape\u001b[0m\u001b[0;34m)\u001b[0m\u001b[0;34m\u001b[0m\u001b[0;34m\u001b[0m\u001b[0m\n\u001b[1;32m      3\u001b[0m \u001b[0minitial_weights\u001b[0m\u001b[0;34m[\u001b[0m\u001b[0;36m2\u001b[0m\u001b[0;34m]\u001b[0m \u001b[0;34m=\u001b[0m \u001b[0mnp\u001b[0m\u001b[0;34m.\u001b[0m\u001b[0mrandom\u001b[0m\u001b[0;34m.\u001b[0m\u001b[0mrandn\u001b[0m\u001b[0;34m(\u001b[0m\u001b[0;36m10\u001b[0m\u001b[0;34m,\u001b[0m\u001b[0;36m10\u001b[0m\u001b[0;34m)\u001b[0m\u001b[0;34m*\u001b[0m\u001b[0mnp\u001b[0m\u001b[0;34m.\u001b[0m\u001b[0msqrt\u001b[0m\u001b[0;34m(\u001b[0m\u001b[0;36m1\u001b[0m\u001b[0;34m/\u001b[0m\u001b[0;36m10\u001b[0m\u001b[0;34m)\u001b[0m\u001b[0;34m\u001b[0m\u001b[0;34m\u001b[0m\u001b[0m\n\u001b[1;32m      4\u001b[0m \u001b[0minitial_weights\u001b[0m\u001b[0;34m[\u001b[0m\u001b[0;36m3\u001b[0m\u001b[0;34m]\u001b[0m \u001b[0;34m=\u001b[0m \u001b[0mnp\u001b[0m\u001b[0;34m.\u001b[0m\u001b[0mzeros\u001b[0m\u001b[0;34m(\u001b[0m\u001b[0mmodel\u001b[0m\u001b[0;34m.\u001b[0m\u001b[0mget_weights\u001b[0m\u001b[0;34m(\u001b[0m\u001b[0;34m)\u001b[0m\u001b[0;34m[\u001b[0m\u001b[0;36m3\u001b[0m\u001b[0;34m]\u001b[0m\u001b[0;34m.\u001b[0m\u001b[0mshape\u001b[0m\u001b[0;34m)\u001b[0m\u001b[0;34m\u001b[0m\u001b[0;34m\u001b[0m\u001b[0m\n\u001b[1;32m      5\u001b[0m \u001b[0minitial_weights\u001b[0m\u001b[0;34m[\u001b[0m\u001b[0;36m4\u001b[0m\u001b[0;34m]\u001b[0m \u001b[0;34m=\u001b[0m \u001b[0mnp\u001b[0m\u001b[0;34m.\u001b[0m\u001b[0mrandom\u001b[0m\u001b[0;34m.\u001b[0m\u001b[0mrandn\u001b[0m\u001b[0;34m(\u001b[0m\u001b[0;36m10\u001b[0m\u001b[0;34m,\u001b[0m\u001b[0;36m10\u001b[0m\u001b[0;34m)\u001b[0m\u001b[0;34m*\u001b[0m\u001b[0mnp\u001b[0m\u001b[0;34m.\u001b[0m\u001b[0msqrt\u001b[0m\u001b[0;34m(\u001b[0m\u001b[0;36m1\u001b[0m\u001b[0;34m/\u001b[0m\u001b[0;36m10\u001b[0m\u001b[0;34m)\u001b[0m\u001b[0;34m\u001b[0m\u001b[0;34m\u001b[0m\u001b[0m\n",
            "\u001b[0;31mNameError\u001b[0m: name 'np' is not defined"
          ]
        }
      ]
    },
    {
      "cell_type": "code",
      "source": [
        "model.set_weights(initial_weights)"
      ],
      "metadata": {
        "id": "cnoX9yK8ueEM"
      },
      "execution_count": null,
      "outputs": []
    },
    {
      "cell_type": "code",
      "source": [
        "model.get_weights()"
      ],
      "metadata": {
        "colab": {
          "base_uri": "https://localhost:8080/"
        },
        "id": "1guey_KUujTP",
        "outputId": "cb12ea73-08fa-4e92-e24e-72a1668e64e1"
      },
      "execution_count": null,
      "outputs": [
        {
          "output_type": "execute_result",
          "data": {
            "text/plain": [
              "[array([[-0.11032016,  0.17509171,  0.1843848 , -0.13387035, -0.22248764,\n",
              "         -0.4973542 ,  0.01073634, -1.4647892 ,  0.08388724, -1.8197235 ],\n",
              "        [ 1.002966  , -0.95305556, -0.12834245, -0.33194754, -0.13306864,\n",
              "          0.09485876,  0.16797686, -0.10928374,  0.2784796 , -0.09958304]],\n",
              "       dtype=float32),\n",
              " array([0., 0., 0., 0., 0., 0., 0., 0., 0., 0.], dtype=float32),\n",
              " array([[-1.9226122e-01, -6.8635836e-02,  1.2595451e-01,  4.1110206e-02,\n",
              "         -1.9760369e-01, -4.1128296e-01,  2.3969673e-01,  3.8812923e-01,\n",
              "         -3.4899300e-01, -1.7512816e-01],\n",
              "        [ 4.7833126e-02, -1.2298286e-01,  4.0561935e-01, -3.0562752e-01,\n",
              "         -2.5746125e-01, -1.1621174e-01, -5.6221265e-01, -8.0210239e-02,\n",
              "         -4.1278237e-01,  1.6079968e-01],\n",
              "        [ 8.3711006e-02,  5.1171310e-02, -5.8813596e-01,  6.1892562e-02,\n",
              "          5.6335014e-01,  5.9584504e-01, -1.3581614e-01,  6.2436932e-01,\n",
              "          4.2401916e-01,  1.7996053e-01],\n",
              "        [-3.9538734e-02, -1.5979685e-01,  1.7306769e-01, -3.7145507e-01,\n",
              "         -7.1009882e-02,  3.3090182e-02,  1.3075121e-01,  1.3791285e-01,\n",
              "          2.9159218e-01, -3.8371164e-01],\n",
              "        [ 5.1707798e-01, -1.3783687e-01, -1.3334692e-01,  4.7121540e-01,\n",
              "          5.9429801e-01,  1.3117266e-01,  2.2030714e-01,  4.3781990e-01,\n",
              "         -1.2880833e-01, -6.7203325e-01],\n",
              "        [-5.9984002e-02, -2.3576069e-01, -4.7008982e-01, -2.0951799e-01,\n",
              "         -4.6094489e-01,  2.1578746e-01,  2.4801575e-01, -1.4318670e-01,\n",
              "         -2.7082285e-01,  7.2081611e-02],\n",
              "        [ 1.6227099e-01, -3.8631463e-01, -3.1166378e-01,  3.3280272e-02,\n",
              "          2.2615050e-01,  5.6847963e-02, -8.1008039e-02,  6.1628664e-01,\n",
              "         -1.2675059e-01,  1.5574576e-01],\n",
              "        [-1.9537099e-02, -8.2923424e-01, -9.0133928e-02,  1.0604966e-01,\n",
              "          2.9720932e-01,  4.7561109e-01,  4.9838930e-02,  1.3587452e-01,\n",
              "         -3.9284563e-01, -2.6727977e-01],\n",
              "        [-1.7769653e-01, -6.4425319e-02,  6.5743983e-01,  3.8421169e-02,\n",
              "          7.5826280e-02,  4.0507236e-01, -4.8696628e-01, -1.0112057e-01,\n",
              "         -8.6788488e-05, -1.8935223e-01],\n",
              "        [-3.9675483e-01, -9.0859555e-02, -5.4476428e-01,  2.3124740e-01,\n",
              "         -5.3691238e-01, -1.5707034e-01,  2.4486800e-01,  3.2796577e-01,\n",
              "          5.0664473e-01,  2.7098015e-01]], dtype=float32),\n",
              " array([0., 0., 0., 0., 0., 0., 0., 0., 0., 0.], dtype=float32),\n",
              " array([[ 0.04617192,  0.5310715 , -0.10098028,  0.13091785, -0.03786524,\n",
              "         -0.01816348, -0.0843357 , -0.39527148,  0.70199025,  0.2505853 ],\n",
              "        [ 0.16016231, -0.3914028 ,  0.2753108 ,  0.1666029 , -0.3226687 ,\n",
              "          0.17043255,  0.39465007, -0.6990438 ,  0.56384796, -0.02296634],\n",
              "        [-0.07209976,  0.7871519 ,  0.37365094, -0.05064134, -0.09625236,\n",
              "         -0.3380565 ,  0.27664822,  0.05697028, -0.71845114, -0.43042982],\n",
              "        [-0.22600524,  0.26061583, -0.23963474,  0.38619602, -0.14212282,\n",
              "          0.53071177,  0.3350296 , -0.16972692, -0.25691068, -0.30874357],\n",
              "        [ 0.43483663, -0.3044455 ,  0.18456334,  0.18485883,  0.14956479,\n",
              "          0.4501015 , -0.05324491, -0.14156277, -0.32401893,  0.2588839 ],\n",
              "        [ 0.07880993, -0.1076578 , -0.23227847,  0.01956563, -0.08723386,\n",
              "         -0.11410695, -0.4727689 , -0.00291232,  0.2871125 ,  0.02590892],\n",
              "        [ 0.4855008 ,  0.07444112, -0.25204232,  0.12364223,  0.15513723,\n",
              "         -0.27951452, -0.20855832,  0.0931346 ,  0.24780469,  0.2971676 ],\n",
              "        [-0.03424003, -0.28657368, -0.0622163 ,  0.3856265 ,  0.13234767,\n",
              "          0.08384353,  0.23678967,  0.27086222, -0.06462156,  0.4274913 ],\n",
              "        [-0.1435969 ,  0.18608248, -0.05671322, -0.4877908 ,  0.11465551,\n",
              "         -0.46239948, -0.1808207 ,  0.0048163 ,  0.11734222, -0.17648311],\n",
              "        [ 0.06016374, -0.03658812, -0.3328004 , -0.5891165 , -0.1679357 ,\n",
              "          0.4149002 ,  0.7460828 , -0.02357046,  0.23144859,  0.16702068]],\n",
              "       dtype=float32),\n",
              " array([0., 0., 0., 0., 0., 0., 0., 0., 0., 0.], dtype=float32),\n",
              " array([[-0.34575593,  0.36655095,  0.3505592 , -0.08476485,  0.06886593,\n",
              "          0.08245613, -0.5715678 ,  0.05813901, -0.14114113, -0.52345574],\n",
              "        [ 0.01944592, -0.318479  , -0.14542706, -0.4146181 , -0.16826187,\n",
              "          0.3082341 ,  0.24798802,  0.18347631,  0.19909249, -0.31472895],\n",
              "        [ 0.094635  , -0.05621877,  0.23195657, -0.21198347, -0.01233233,\n",
              "         -0.3352238 ,  0.21617524,  0.12781587, -0.22265588, -0.0226707 ],\n",
              "        [-0.41398063, -0.71232104, -0.5251785 ,  0.38174197,  0.09092183,\n",
              "         -0.12340582, -0.42063126,  0.19835785,  0.16690522, -0.40414974],\n",
              "        [-0.19761714,  0.5724186 , -0.10057885,  0.07067582, -0.17508511,\n",
              "         -0.2843041 ,  0.35277587, -0.26467878,  0.1619682 ,  0.01184682],\n",
              "        [ 0.03393479, -0.26269743,  0.17111406, -0.17025107,  0.3490576 ,\n",
              "          0.513473  ,  0.19109829, -0.4883604 , -0.09411547, -0.07398289],\n",
              "        [-0.9417952 , -0.20090595,  0.08356312, -0.342624  , -0.0197213 ,\n",
              "          0.2127387 ,  0.10696652, -0.05683794, -0.4500916 ,  0.42828643],\n",
              "        [ 0.39382017,  0.9303548 , -0.08846762,  0.06256334,  0.5224174 ,\n",
              "          0.31870046, -0.24858324, -0.22986807,  0.2040608 ,  0.16520165],\n",
              "        [-0.3607255 , -0.2489962 ,  0.2028892 ,  0.5136738 ,  0.2949699 ,\n",
              "         -0.2842104 , -0.04563213,  0.06563914,  0.39479372,  0.2962588 ],\n",
              "        [-0.73817414, -0.08637664,  0.18654674,  0.4239076 , -0.31430587,\n",
              "          0.15104815,  0.31243485,  0.3809594 , -0.5563734 ,  0.24180932]],\n",
              "       dtype=float32),\n",
              " array([0., 0., 0., 0., 0., 0., 0., 0., 0., 0.], dtype=float32),\n",
              " array([[-0.30432755],\n",
              "        [-0.03782593],\n",
              "        [-0.21825913],\n",
              "        [ 0.95151865],\n",
              "        [ 0.32526323],\n",
              "        [-0.51874226],\n",
              "        [ 0.5582759 ],\n",
              "        [-0.33554426],\n",
              "        [ 0.2395036 ],\n",
              "        [-0.33007735]], dtype=float32),\n",
              " array([0.], dtype=float32)]"
            ]
          },
          "metadata": {},
          "execution_count": 12
        }
      ]
    },
    {
      "cell_type": "code",
      "source": [
        "model.compile(loss='binary_crossentropy',optimizer='adam',metrics=['accuracy'])"
      ],
      "metadata": {
        "id": "bjAyhD8mulGG"
      },
      "execution_count": null,
      "outputs": []
    },
    {
      "cell_type": "code",
      "source": [
        "history = model.fit(X,y,epochs=100,validation_split=0.2)"
      ],
      "metadata": {
        "colab": {
          "base_uri": "https://localhost:8080/"
        },
        "id": "H1wa0jCaun8z",
        "outputId": "7de4aaf3-aa8b-4d3b-fd11-391ba4ed42e6"
      },
      "execution_count": null,
      "outputs": [
        {
          "output_type": "stream",
          "name": "stdout",
          "text": [
            "Epoch 1/100\n",
            "\u001b[1m3/3\u001b[0m \u001b[32m━━━━━━━━━━━━━━━━━━━━\u001b[0m\u001b[37m\u001b[0m \u001b[1m2s\u001b[0m 134ms/step - accuracy: 0.4286 - loss: 0.7133 - val_accuracy: 0.2500 - val_loss: 0.7452\n",
            "Epoch 2/100\n",
            "\u001b[1m3/3\u001b[0m \u001b[32m━━━━━━━━━━━━━━━━━━━━\u001b[0m\u001b[37m\u001b[0m \u001b[1m0s\u001b[0m 31ms/step - accuracy: 0.4583 - loss: 0.7032 - val_accuracy: 0.3500 - val_loss: 0.7342\n",
            "Epoch 3/100\n",
            "\u001b[1m3/3\u001b[0m \u001b[32m━━━━━━━━━━━━━━━━━━━━\u001b[0m\u001b[37m\u001b[0m \u001b[1m0s\u001b[0m 31ms/step - accuracy: 0.5061 - loss: 0.6987 - val_accuracy: 0.4000 - val_loss: 0.7243\n",
            "Epoch 4/100\n",
            "\u001b[1m3/3\u001b[0m \u001b[32m━━━━━━━━━━━━━━━━━━━━\u001b[0m\u001b[37m\u001b[0m \u001b[1m0s\u001b[0m 35ms/step - accuracy: 0.5086 - loss: 0.6992 - val_accuracy: 0.4500 - val_loss: 0.7153\n",
            "Epoch 5/100\n",
            "\u001b[1m3/3\u001b[0m \u001b[32m━━━━━━━━━━━━━━━━━━━━\u001b[0m\u001b[37m\u001b[0m \u001b[1m0s\u001b[0m 32ms/step - accuracy: 0.4695 - loss: 0.6947 - val_accuracy: 0.3500 - val_loss: 0.7074\n",
            "Epoch 6/100\n",
            "\u001b[1m3/3\u001b[0m \u001b[32m━━━━━━━━━━━━━━━━━━━━\u001b[0m\u001b[37m\u001b[0m \u001b[1m0s\u001b[0m 33ms/step - accuracy: 0.5056 - loss: 0.6910 - val_accuracy: 0.4000 - val_loss: 0.7005\n",
            "Epoch 7/100\n",
            "\u001b[1m3/3\u001b[0m \u001b[32m━━━━━━━━━━━━━━━━━━━━\u001b[0m\u001b[37m\u001b[0m \u001b[1m0s\u001b[0m 32ms/step - accuracy: 0.5456 - loss: 0.6859 - val_accuracy: 0.4500 - val_loss: 0.6938\n",
            "Epoch 8/100\n",
            "\u001b[1m3/3\u001b[0m \u001b[32m━━━━━━━━━━━━━━━━━━━━\u001b[0m\u001b[37m\u001b[0m \u001b[1m0s\u001b[0m 30ms/step - accuracy: 0.5802 - loss: 0.6841 - val_accuracy: 0.5500 - val_loss: 0.6873\n",
            "Epoch 9/100\n",
            "\u001b[1m3/3\u001b[0m \u001b[32m━━━━━━━━━━━━━━━━━━━━\u001b[0m\u001b[37m\u001b[0m \u001b[1m0s\u001b[0m 32ms/step - accuracy: 0.6182 - loss: 0.6798 - val_accuracy: 0.7000 - val_loss: 0.6810\n",
            "Epoch 10/100\n",
            "\u001b[1m3/3\u001b[0m \u001b[32m━━━━━━━━━━━━━━━━━━━━\u001b[0m\u001b[37m\u001b[0m \u001b[1m0s\u001b[0m 31ms/step - accuracy: 0.7274 - loss: 0.6788 - val_accuracy: 0.7500 - val_loss: 0.6741\n",
            "Epoch 11/100\n",
            "\u001b[1m3/3\u001b[0m \u001b[32m━━━━━━━━━━━━━━━━━━━━\u001b[0m\u001b[37m\u001b[0m \u001b[1m0s\u001b[0m 31ms/step - accuracy: 0.7587 - loss: 0.6736 - val_accuracy: 0.8000 - val_loss: 0.6671\n",
            "Epoch 12/100\n",
            "\u001b[1m3/3\u001b[0m \u001b[32m━━━━━━━━━━━━━━━━━━━━\u001b[0m\u001b[37m\u001b[0m \u001b[1m0s\u001b[0m 32ms/step - accuracy: 0.7601 - loss: 0.6695 - val_accuracy: 0.8000 - val_loss: 0.6601\n",
            "Epoch 13/100\n",
            "\u001b[1m3/3\u001b[0m \u001b[32m━━━━━━━━━━━━━━━━━━━━\u001b[0m\u001b[37m\u001b[0m \u001b[1m0s\u001b[0m 32ms/step - accuracy: 0.7445 - loss: 0.6654 - val_accuracy: 0.9000 - val_loss: 0.6533\n",
            "Epoch 14/100\n",
            "\u001b[1m3/3\u001b[0m \u001b[32m━━━━━━━━━━━━━━━━━━━━\u001b[0m\u001b[37m\u001b[0m \u001b[1m0s\u001b[0m 33ms/step - accuracy: 0.7445 - loss: 0.6631 - val_accuracy: 0.9000 - val_loss: 0.6466\n",
            "Epoch 15/100\n",
            "\u001b[1m3/3\u001b[0m \u001b[32m━━━━━━━━━━━━━━━━━━━━\u001b[0m\u001b[37m\u001b[0m \u001b[1m0s\u001b[0m 33ms/step - accuracy: 0.7845 - loss: 0.6565 - val_accuracy: 0.9000 - val_loss: 0.6404\n",
            "Epoch 16/100\n",
            "\u001b[1m3/3\u001b[0m \u001b[32m━━━━━━━━━━━━━━━━━━━━\u001b[0m\u001b[37m\u001b[0m \u001b[1m0s\u001b[0m 30ms/step - accuracy: 0.8128 - loss: 0.6547 - val_accuracy: 0.9000 - val_loss: 0.6350\n",
            "Epoch 17/100\n",
            "\u001b[1m3/3\u001b[0m \u001b[32m━━━━━━━━━━━━━━━━━━━━\u001b[0m\u001b[37m\u001b[0m \u001b[1m0s\u001b[0m 32ms/step - accuracy: 0.8333 - loss: 0.6501 - val_accuracy: 0.9000 - val_loss: 0.6298\n",
            "Epoch 18/100\n",
            "\u001b[1m3/3\u001b[0m \u001b[32m━━━━━━━━━━━━━━━━━━━━\u001b[0m\u001b[37m\u001b[0m \u001b[1m0s\u001b[0m 58ms/step - accuracy: 0.8357 - loss: 0.6467 - val_accuracy: 0.9000 - val_loss: 0.6240\n",
            "Epoch 19/100\n",
            "\u001b[1m3/3\u001b[0m \u001b[32m━━━━━━━━━━━━━━━━━━━━\u001b[0m\u001b[37m\u001b[0m \u001b[1m0s\u001b[0m 66ms/step - accuracy: 0.8381 - loss: 0.6450 - val_accuracy: 0.9000 - val_loss: 0.6174\n",
            "Epoch 20/100\n",
            "\u001b[1m3/3\u001b[0m \u001b[32m━━━━━━━━━━━━━━━━━━━━\u001b[0m\u001b[37m\u001b[0m \u001b[1m0s\u001b[0m 65ms/step - accuracy: 0.8435 - loss: 0.6374 - val_accuracy: 0.9000 - val_loss: 0.6102\n",
            "Epoch 21/100\n",
            "\u001b[1m3/3\u001b[0m \u001b[32m━━━━━━━━━━━━━━━━━━━━\u001b[0m\u001b[37m\u001b[0m \u001b[1m0s\u001b[0m 61ms/step - accuracy: 0.8645 - loss: 0.6286 - val_accuracy: 0.9000 - val_loss: 0.6019\n",
            "Epoch 22/100\n",
            "\u001b[1m3/3\u001b[0m \u001b[32m━━━━━━━━━━━━━━━━━━━━\u001b[0m\u001b[37m\u001b[0m \u001b[1m0s\u001b[0m 60ms/step - accuracy: 0.8513 - loss: 0.6250 - val_accuracy: 0.9000 - val_loss: 0.5930\n",
            "Epoch 23/100\n",
            "\u001b[1m3/3\u001b[0m \u001b[32m━━━━━━━━━━━━━━━━━━━━\u001b[0m\u001b[37m\u001b[0m \u001b[1m0s\u001b[0m 61ms/step - accuracy: 0.8318 - loss: 0.6250 - val_accuracy: 0.9000 - val_loss: 0.5837\n",
            "Epoch 24/100\n",
            "\u001b[1m3/3\u001b[0m \u001b[32m━━━━━━━━━━━━━━━━━━━━\u001b[0m\u001b[37m\u001b[0m \u001b[1m0s\u001b[0m 68ms/step - accuracy: 0.8435 - loss: 0.6172 - val_accuracy: 0.9000 - val_loss: 0.5733\n",
            "Epoch 25/100\n",
            "\u001b[1m3/3\u001b[0m \u001b[32m━━━━━━━━━━━━━━━━━━━━\u001b[0m\u001b[37m\u001b[0m \u001b[1m0s\u001b[0m 50ms/step - accuracy: 0.8303 - loss: 0.6077 - val_accuracy: 0.9000 - val_loss: 0.5623\n",
            "Epoch 26/100\n",
            "\u001b[1m3/3\u001b[0m \u001b[32m━━━━━━━━━━━━━━━━━━━━\u001b[0m\u001b[37m\u001b[0m \u001b[1m0s\u001b[0m 49ms/step - accuracy: 0.8342 - loss: 0.6046 - val_accuracy: 0.9000 - val_loss: 0.5510\n",
            "Epoch 27/100\n",
            "\u001b[1m3/3\u001b[0m \u001b[32m━━━━━━━━━━━━━━━━━━━━\u001b[0m\u001b[37m\u001b[0m \u001b[1m0s\u001b[0m 30ms/step - accuracy: 0.8772 - loss: 0.5810 - val_accuracy: 0.9000 - val_loss: 0.5388\n",
            "Epoch 28/100\n",
            "\u001b[1m3/3\u001b[0m \u001b[32m━━━━━━━━━━━━━━━━━━━━\u001b[0m\u001b[37m\u001b[0m \u001b[1m0s\u001b[0m 58ms/step - accuracy: 0.8225 - loss: 0.5863 - val_accuracy: 0.9000 - val_loss: 0.5266\n",
            "Epoch 29/100\n",
            "\u001b[1m3/3\u001b[0m \u001b[32m━━━━━━━━━━━━━━━━━━━━\u001b[0m\u001b[37m\u001b[0m \u001b[1m0s\u001b[0m 29ms/step - accuracy: 0.8264 - loss: 0.5797 - val_accuracy: 0.9000 - val_loss: 0.5136\n",
            "Epoch 30/100\n",
            "\u001b[1m3/3\u001b[0m \u001b[32m━━━━━━━━━━━━━━━━━━━━\u001b[0m\u001b[37m\u001b[0m \u001b[1m0s\u001b[0m 30ms/step - accuracy: 0.8303 - loss: 0.5635 - val_accuracy: 0.9500 - val_loss: 0.4991\n",
            "Epoch 31/100\n",
            "\u001b[1m3/3\u001b[0m \u001b[32m━━━━━━━━━━━━━━━━━━━━\u001b[0m\u001b[37m\u001b[0m \u001b[1m0s\u001b[0m 33ms/step - accuracy: 0.8591 - loss: 0.5436 - val_accuracy: 0.9000 - val_loss: 0.4843\n",
            "Epoch 32/100\n",
            "\u001b[1m3/3\u001b[0m \u001b[32m━━━━━━━━━━━━━━━━━━━━\u001b[0m\u001b[37m\u001b[0m \u001b[1m0s\u001b[0m 32ms/step - accuracy: 0.8318 - loss: 0.5402 - val_accuracy: 0.9000 - val_loss: 0.4698\n",
            "Epoch 33/100\n",
            "\u001b[1m3/3\u001b[0m \u001b[32m━━━━━━━━━━━━━━━━━━━━\u001b[0m\u001b[37m\u001b[0m \u001b[1m0s\u001b[0m 33ms/step - accuracy: 0.8513 - loss: 0.5275 - val_accuracy: 0.9000 - val_loss: 0.4552\n",
            "Epoch 34/100\n",
            "\u001b[1m3/3\u001b[0m \u001b[32m━━━━━━━━━━━━━━━━━━━━\u001b[0m\u001b[37m\u001b[0m \u001b[1m0s\u001b[0m 30ms/step - accuracy: 0.8396 - loss: 0.5231 - val_accuracy: 0.9000 - val_loss: 0.4407\n",
            "Epoch 35/100\n",
            "\u001b[1m3/3\u001b[0m \u001b[32m━━━━━━━━━━━━━━━━━━━━\u001b[0m\u001b[37m\u001b[0m \u001b[1m0s\u001b[0m 32ms/step - accuracy: 0.8537 - loss: 0.5099 - val_accuracy: 0.9000 - val_loss: 0.4260\n",
            "Epoch 36/100\n",
            "\u001b[1m3/3\u001b[0m \u001b[32m━━━━━━━━━━━━━━━━━━━━\u001b[0m\u001b[37m\u001b[0m \u001b[1m0s\u001b[0m 38ms/step - accuracy: 0.8733 - loss: 0.4852 - val_accuracy: 0.9000 - val_loss: 0.4113\n",
            "Epoch 37/100\n",
            "\u001b[1m3/3\u001b[0m \u001b[32m━━━━━━━━━━━━━━━━━━━━\u001b[0m\u001b[37m\u001b[0m \u001b[1m0s\u001b[0m 33ms/step - accuracy: 0.8420 - loss: 0.4982 - val_accuracy: 0.9500 - val_loss: 0.3970\n",
            "Epoch 38/100\n",
            "\u001b[1m3/3\u001b[0m \u001b[32m━━━━━━━━━━━━━━━━━━━━\u001b[0m\u001b[37m\u001b[0m \u001b[1m0s\u001b[0m 30ms/step - accuracy: 0.8616 - loss: 0.4714 - val_accuracy: 0.9500 - val_loss: 0.3828\n",
            "Epoch 39/100\n",
            "\u001b[1m3/3\u001b[0m \u001b[32m━━━━━━━━━━━━━━━━━━━━\u001b[0m\u001b[37m\u001b[0m \u001b[1m0s\u001b[0m 33ms/step - accuracy: 0.8381 - loss: 0.4739 - val_accuracy: 0.9500 - val_loss: 0.3690\n",
            "Epoch 40/100\n",
            "\u001b[1m3/3\u001b[0m \u001b[32m━━━━━━━━━━━━━━━━━━━━\u001b[0m\u001b[37m\u001b[0m \u001b[1m0s\u001b[0m 33ms/step - accuracy: 0.8420 - loss: 0.4643 - val_accuracy: 0.9500 - val_loss: 0.3555\n",
            "Epoch 41/100\n",
            "\u001b[1m3/3\u001b[0m \u001b[32m━━━━━━━━━━━━━━━━━━━━\u001b[0m\u001b[37m\u001b[0m \u001b[1m0s\u001b[0m 32ms/step - accuracy: 0.8381 - loss: 0.4518 - val_accuracy: 0.9500 - val_loss: 0.3423\n",
            "Epoch 42/100\n",
            "\u001b[1m3/3\u001b[0m \u001b[32m━━━━━━━━━━━━━━━━━━━━\u001b[0m\u001b[37m\u001b[0m \u001b[1m0s\u001b[0m 32ms/step - accuracy: 0.8069 - loss: 0.4556 - val_accuracy: 0.9500 - val_loss: 0.3302\n",
            "Epoch 43/100\n",
            "\u001b[1m3/3\u001b[0m \u001b[32m━━━━━━━━━━━━━━━━━━━━\u001b[0m\u001b[37m\u001b[0m \u001b[1m0s\u001b[0m 33ms/step - accuracy: 0.8279 - loss: 0.4352 - val_accuracy: 0.9500 - val_loss: 0.3182\n",
            "Epoch 44/100\n",
            "\u001b[1m3/3\u001b[0m \u001b[32m━━━━━━━━━━━━━━━━━━━━\u001b[0m\u001b[37m\u001b[0m \u001b[1m0s\u001b[0m 57ms/step - accuracy: 0.8537 - loss: 0.4115 - val_accuracy: 0.9500 - val_loss: 0.3069\n",
            "Epoch 45/100\n",
            "\u001b[1m3/3\u001b[0m \u001b[32m━━━━━━━━━━━━━━━━━━━━\u001b[0m\u001b[37m\u001b[0m \u001b[1m0s\u001b[0m 33ms/step - accuracy: 0.8381 - loss: 0.4252 - val_accuracy: 0.9500 - val_loss: 0.2965\n",
            "Epoch 46/100\n",
            "\u001b[1m3/3\u001b[0m \u001b[32m━━━━━━━━━━━━━━━━━━━━\u001b[0m\u001b[37m\u001b[0m \u001b[1m0s\u001b[0m 32ms/step - accuracy: 0.8772 - loss: 0.3841 - val_accuracy: 0.9500 - val_loss: 0.2867\n",
            "Epoch 47/100\n",
            "\u001b[1m3/3\u001b[0m \u001b[32m━━━━━━━━━━━━━━━━━━━━\u001b[0m\u001b[37m\u001b[0m \u001b[1m0s\u001b[0m 51ms/step - accuracy: 0.8537 - loss: 0.3921 - val_accuracy: 0.9500 - val_loss: 0.2781\n",
            "Epoch 48/100\n",
            "\u001b[1m3/3\u001b[0m \u001b[32m━━━━━━━━━━━━━━━━━━━━\u001b[0m\u001b[37m\u001b[0m \u001b[1m0s\u001b[0m 32ms/step - accuracy: 0.8772 - loss: 0.3747 - val_accuracy: 0.9500 - val_loss: 0.2703\n",
            "Epoch 49/100\n",
            "\u001b[1m3/3\u001b[0m \u001b[32m━━━━━━━━━━━━━━━━━━━━\u001b[0m\u001b[37m\u001b[0m \u001b[1m0s\u001b[0m 31ms/step - accuracy: 0.8420 - loss: 0.3870 - val_accuracy: 0.9500 - val_loss: 0.2632\n",
            "Epoch 50/100\n",
            "\u001b[1m3/3\u001b[0m \u001b[32m━━━━━━━━━━━━━━━━━━━━\u001b[0m\u001b[37m\u001b[0m \u001b[1m0s\u001b[0m 30ms/step - accuracy: 0.8420 - loss: 0.3722 - val_accuracy: 0.9500 - val_loss: 0.2562\n",
            "Epoch 51/100\n",
            "\u001b[1m3/3\u001b[0m \u001b[32m━━━━━━━━━━━━━━━━━━━━\u001b[0m\u001b[37m\u001b[0m \u001b[1m0s\u001b[0m 36ms/step - accuracy: 0.8733 - loss: 0.3630 - val_accuracy: 0.9500 - val_loss: 0.2495\n",
            "Epoch 52/100\n",
            "\u001b[1m3/3\u001b[0m \u001b[32m━━━━━━━━━━━━━━━━━━━━\u001b[0m\u001b[37m\u001b[0m \u001b[1m0s\u001b[0m 32ms/step - accuracy: 0.8694 - loss: 0.3364 - val_accuracy: 0.9500 - val_loss: 0.2432\n",
            "Epoch 53/100\n",
            "\u001b[1m3/3\u001b[0m \u001b[32m━━━━━━━━━━━━━━━━━━━━\u001b[0m\u001b[37m\u001b[0m \u001b[1m0s\u001b[0m 30ms/step - accuracy: 0.8576 - loss: 0.3640 - val_accuracy: 0.9500 - val_loss: 0.2378\n",
            "Epoch 54/100\n",
            "\u001b[1m3/3\u001b[0m \u001b[32m━━━━━━━━━━━━━━━━━━━━\u001b[0m\u001b[37m\u001b[0m \u001b[1m0s\u001b[0m 32ms/step - accuracy: 0.8498 - loss: 0.3697 - val_accuracy: 0.9500 - val_loss: 0.2331\n",
            "Epoch 55/100\n",
            "\u001b[1m3/3\u001b[0m \u001b[32m━━━━━━━━━━━━━━━━━━━━\u001b[0m\u001b[37m\u001b[0m \u001b[1m0s\u001b[0m 141ms/step - accuracy: 0.8537 - loss: 0.3646 - val_accuracy: 0.9500 - val_loss: 0.2289\n",
            "Epoch 56/100\n",
            "\u001b[1m3/3\u001b[0m \u001b[32m━━━━━━━━━━━━━━━━━━━━\u001b[0m\u001b[37m\u001b[0m \u001b[1m0s\u001b[0m 30ms/step - accuracy: 0.8264 - loss: 0.3793 - val_accuracy: 0.9500 - val_loss: 0.2248\n",
            "Epoch 57/100\n",
            "\u001b[1m3/3\u001b[0m \u001b[32m━━━━━━━━━━━━━━━━━━━━\u001b[0m\u001b[37m\u001b[0m \u001b[1m0s\u001b[0m 32ms/step - accuracy: 0.8679 - loss: 0.3444 - val_accuracy: 0.9500 - val_loss: 0.2208\n",
            "Epoch 58/100\n",
            "\u001b[1m3/3\u001b[0m \u001b[32m━━━━━━━━━━━━━━━━━━━━\u001b[0m\u001b[37m\u001b[0m \u001b[1m0s\u001b[0m 31ms/step - accuracy: 0.8562 - loss: 0.3677 - val_accuracy: 0.9500 - val_loss: 0.2172\n",
            "Epoch 59/100\n",
            "\u001b[1m3/3\u001b[0m \u001b[32m━━━━━━━━━━━━━━━━━━━━\u001b[0m\u001b[37m\u001b[0m \u001b[1m0s\u001b[0m 30ms/step - accuracy: 0.8483 - loss: 0.3488 - val_accuracy: 0.9500 - val_loss: 0.2140\n",
            "Epoch 60/100\n",
            "\u001b[1m3/3\u001b[0m \u001b[32m━━━━━━━━━━━━━━━━━━━━\u001b[0m\u001b[37m\u001b[0m \u001b[1m0s\u001b[0m 35ms/step - accuracy: 0.8562 - loss: 0.3399 - val_accuracy: 0.9500 - val_loss: 0.2106\n",
            "Epoch 61/100\n",
            "\u001b[1m3/3\u001b[0m \u001b[32m━━━━━━━━━━━━━━━━━━━━\u001b[0m\u001b[37m\u001b[0m \u001b[1m0s\u001b[0m 38ms/step - accuracy: 0.8703 - loss: 0.3363 - val_accuracy: 0.9500 - val_loss: 0.2071\n",
            "Epoch 62/100\n",
            "\u001b[1m3/3\u001b[0m \u001b[32m━━━━━━━━━━━━━━━━━━━━\u001b[0m\u001b[37m\u001b[0m \u001b[1m0s\u001b[0m 31ms/step - accuracy: 0.8937 - loss: 0.3059 - val_accuracy: 0.9500 - val_loss: 0.2040\n",
            "Epoch 63/100\n",
            "\u001b[1m3/3\u001b[0m \u001b[32m━━━━━━━━━━━━━━━━━━━━\u001b[0m\u001b[37m\u001b[0m \u001b[1m0s\u001b[0m 30ms/step - accuracy: 0.8781 - loss: 0.3306 - val_accuracy: 0.9500 - val_loss: 0.2013\n",
            "Epoch 64/100\n",
            "\u001b[1m3/3\u001b[0m \u001b[32m━━━━━━━━━━━━━━━━━━━━\u001b[0m\u001b[37m\u001b[0m \u001b[1m0s\u001b[0m 33ms/step - accuracy: 0.8742 - loss: 0.3405 - val_accuracy: 0.9500 - val_loss: 0.1991\n",
            "Epoch 65/100\n",
            "\u001b[1m3/3\u001b[0m \u001b[32m━━━━━━━━━━━━━━━━━━━━\u001b[0m\u001b[37m\u001b[0m \u001b[1m0s\u001b[0m 32ms/step - accuracy: 0.8664 - loss: 0.3557 - val_accuracy: 0.9500 - val_loss: 0.1973\n",
            "Epoch 66/100\n",
            "\u001b[1m3/3\u001b[0m \u001b[32m━━━━━━━━━━━━━━━━━━━━\u001b[0m\u001b[37m\u001b[0m \u001b[1m0s\u001b[0m 33ms/step - accuracy: 0.8820 - loss: 0.3083 - val_accuracy: 0.9500 - val_loss: 0.1947\n",
            "Epoch 67/100\n",
            "\u001b[1m3/3\u001b[0m \u001b[32m━━━━━━━━━━━━━━━━━━━━\u001b[0m\u001b[37m\u001b[0m \u001b[1m0s\u001b[0m 34ms/step - accuracy: 0.8664 - loss: 0.3215 - val_accuracy: 0.9500 - val_loss: 0.1923\n",
            "Epoch 68/100\n",
            "\u001b[1m3/3\u001b[0m \u001b[32m━━━━━━━━━━━━━━━━━━━━\u001b[0m\u001b[37m\u001b[0m \u001b[1m0s\u001b[0m 32ms/step - accuracy: 0.8625 - loss: 0.3493 - val_accuracy: 0.9500 - val_loss: 0.1900\n",
            "Epoch 69/100\n",
            "\u001b[1m3/3\u001b[0m \u001b[32m━━━━━━━━━━━━━━━━━━━━\u001b[0m\u001b[37m\u001b[0m \u001b[1m0s\u001b[0m 32ms/step - accuracy: 0.8664 - loss: 0.3225 - val_accuracy: 0.9500 - val_loss: 0.1874\n",
            "Epoch 70/100\n",
            "\u001b[1m3/3\u001b[0m \u001b[32m━━━━━━━━━━━━━━━━━━━━\u001b[0m\u001b[37m\u001b[0m \u001b[1m0s\u001b[0m 53ms/step - accuracy: 0.8727 - loss: 0.3251 - val_accuracy: 0.9500 - val_loss: 0.1848\n",
            "Epoch 71/100\n",
            "\u001b[1m3/3\u001b[0m \u001b[32m━━━━━━━━━━━━━━━━━━━━\u001b[0m\u001b[37m\u001b[0m \u001b[1m0s\u001b[0m 30ms/step - accuracy: 0.8766 - loss: 0.3345 - val_accuracy: 0.9000 - val_loss: 0.1820\n",
            "Epoch 72/100\n",
            "\u001b[1m3/3\u001b[0m \u001b[32m━━━━━━━━━━━━━━━━━━━━\u001b[0m\u001b[37m\u001b[0m \u001b[1m0s\u001b[0m 33ms/step - accuracy: 0.8508 - loss: 0.3428 - val_accuracy: 0.9000 - val_loss: 0.1800\n",
            "Epoch 73/100\n",
            "\u001b[1m3/3\u001b[0m \u001b[32m━━━━━━━━━━━━━━━━━━━━\u001b[0m\u001b[37m\u001b[0m \u001b[1m0s\u001b[0m 32ms/step - accuracy: 0.8742 - loss: 0.3046 - val_accuracy: 0.9000 - val_loss: 0.1781\n",
            "Epoch 74/100\n",
            "\u001b[1m3/3\u001b[0m \u001b[32m━━━━━━━━━━━━━━━━━━━━\u001b[0m\u001b[37m\u001b[0m \u001b[1m0s\u001b[0m 29ms/step - accuracy: 0.8820 - loss: 0.3271 - val_accuracy: 0.9000 - val_loss: 0.1761\n",
            "Epoch 75/100\n",
            "\u001b[1m3/3\u001b[0m \u001b[32m━━━━━━━━━━━━━━━━━━━━\u001b[0m\u001b[37m\u001b[0m \u001b[1m0s\u001b[0m 31ms/step - accuracy: 0.8586 - loss: 0.3550 - val_accuracy: 0.9000 - val_loss: 0.1743\n",
            "Epoch 76/100\n",
            "\u001b[1m3/3\u001b[0m \u001b[32m━━━━━━━━━━━━━━━━━━━━\u001b[0m\u001b[37m\u001b[0m \u001b[1m0s\u001b[0m 31ms/step - accuracy: 0.8562 - loss: 0.3379 - val_accuracy: 0.9000 - val_loss: 0.1730\n",
            "Epoch 77/100\n",
            "\u001b[1m3/3\u001b[0m \u001b[32m━━━━━━━━━━━━━━━━━━━━\u001b[0m\u001b[37m\u001b[0m \u001b[1m0s\u001b[0m 33ms/step - accuracy: 0.8718 - loss: 0.2911 - val_accuracy: 0.9000 - val_loss: 0.1712\n",
            "Epoch 78/100\n",
            "\u001b[1m3/3\u001b[0m \u001b[32m━━━━━━━━━━━━━━━━━━━━\u001b[0m\u001b[37m\u001b[0m \u001b[1m0s\u001b[0m 31ms/step - accuracy: 0.8649 - loss: 0.3305 - val_accuracy: 0.9000 - val_loss: 0.1697\n",
            "Epoch 79/100\n",
            "\u001b[1m3/3\u001b[0m \u001b[32m━━━━━━━━━━━━━━━━━━━━\u001b[0m\u001b[37m\u001b[0m \u001b[1m0s\u001b[0m 32ms/step - accuracy: 0.8649 - loss: 0.3430 - val_accuracy: 0.9000 - val_loss: 0.1685\n",
            "Epoch 80/100\n",
            "\u001b[1m3/3\u001b[0m \u001b[32m━━━━━━━━━━━━━━━━━━━━\u001b[0m\u001b[37m\u001b[0m \u001b[1m0s\u001b[0m 35ms/step - accuracy: 0.8884 - loss: 0.3014 - val_accuracy: 0.9000 - val_loss: 0.1675\n",
            "Epoch 81/100\n",
            "\u001b[1m3/3\u001b[0m \u001b[32m━━━━━━━━━━━━━━━━━━━━\u001b[0m\u001b[37m\u001b[0m \u001b[1m0s\u001b[0m 31ms/step - accuracy: 0.8844 - loss: 0.3241 - val_accuracy: 0.9000 - val_loss: 0.1666\n",
            "Epoch 82/100\n",
            "\u001b[1m3/3\u001b[0m \u001b[32m━━━━━━━━━━━━━━━━━━━━\u001b[0m\u001b[37m\u001b[0m \u001b[1m0s\u001b[0m 30ms/step - accuracy: 0.8962 - loss: 0.2571 - val_accuracy: 0.9000 - val_loss: 0.1651\n",
            "Epoch 83/100\n",
            "\u001b[1m3/3\u001b[0m \u001b[32m━━━━━━━━━━━━━━━━━━━━\u001b[0m\u001b[37m\u001b[0m \u001b[1m0s\u001b[0m 35ms/step - accuracy: 0.8898 - loss: 0.3190 - val_accuracy: 0.9000 - val_loss: 0.1641\n",
            "Epoch 84/100\n",
            "\u001b[1m3/3\u001b[0m \u001b[32m━━━━━━━━━━━━━━━━━━━━\u001b[0m\u001b[37m\u001b[0m \u001b[1m0s\u001b[0m 30ms/step - accuracy: 0.8820 - loss: 0.2767 - val_accuracy: 0.9000 - val_loss: 0.1627\n",
            "Epoch 85/100\n",
            "\u001b[1m3/3\u001b[0m \u001b[32m━━━━━━━━━━━━━━━━━━━━\u001b[0m\u001b[37m\u001b[0m \u001b[1m0s\u001b[0m 31ms/step - accuracy: 0.9040 - loss: 0.2874 - val_accuracy: 0.9000 - val_loss: 0.1616\n",
            "Epoch 86/100\n",
            "\u001b[1m3/3\u001b[0m \u001b[32m━━━━━━━━━━━━━━━━━━━━\u001b[0m\u001b[37m\u001b[0m \u001b[1m0s\u001b[0m 30ms/step - accuracy: 0.8937 - loss: 0.3035 - val_accuracy: 0.9000 - val_loss: 0.1611\n",
            "Epoch 87/100\n",
            "\u001b[1m3/3\u001b[0m \u001b[32m━━━━━━━━━━━━━━━━━━━━\u001b[0m\u001b[37m\u001b[0m \u001b[1m0s\u001b[0m 39ms/step - accuracy: 0.8884 - loss: 0.2846 - val_accuracy: 0.9000 - val_loss: 0.1606\n",
            "Epoch 88/100\n",
            "\u001b[1m3/3\u001b[0m \u001b[32m━━━━━━━━━━━━━━━━━━━━\u001b[0m\u001b[37m\u001b[0m \u001b[1m0s\u001b[0m 32ms/step - accuracy: 0.9001 - loss: 0.2829 - val_accuracy: 0.9000 - val_loss: 0.1596\n",
            "Epoch 89/100\n",
            "\u001b[1m3/3\u001b[0m \u001b[32m━━━━━━━━━━━━━━━━━━━━\u001b[0m\u001b[37m\u001b[0m \u001b[1m0s\u001b[0m 32ms/step - accuracy: 0.8805 - loss: 0.2978 - val_accuracy: 0.9000 - val_loss: 0.1581\n",
            "Epoch 90/100\n",
            "\u001b[1m3/3\u001b[0m \u001b[32m━━━━━━━━━━━━━━━━━━━━\u001b[0m\u001b[37m\u001b[0m \u001b[1m0s\u001b[0m 34ms/step - accuracy: 0.8986 - loss: 0.3093 - val_accuracy: 0.9000 - val_loss: 0.1572\n",
            "Epoch 91/100\n",
            "\u001b[1m3/3\u001b[0m \u001b[32m━━━━━━━━━━━━━━━━━━━━\u001b[0m\u001b[37m\u001b[0m \u001b[1m0s\u001b[0m 32ms/step - accuracy: 0.8908 - loss: 0.2841 - val_accuracy: 0.9000 - val_loss: 0.1555\n",
            "Epoch 92/100\n",
            "\u001b[1m3/3\u001b[0m \u001b[32m━━━━━━━━━━━━━━━━━━━━\u001b[0m\u001b[37m\u001b[0m \u001b[1m0s\u001b[0m 32ms/step - accuracy: 0.8712 - loss: 0.3186 - val_accuracy: 0.9000 - val_loss: 0.1543\n",
            "Epoch 93/100\n",
            "\u001b[1m3/3\u001b[0m \u001b[32m━━━━━━━━━━━━━━━━━━━━\u001b[0m\u001b[37m\u001b[0m \u001b[1m0s\u001b[0m 33ms/step - accuracy: 0.8869 - loss: 0.3074 - val_accuracy: 0.9500 - val_loss: 0.1535\n",
            "Epoch 94/100\n",
            "\u001b[1m3/3\u001b[0m \u001b[32m━━━━━━━━━━━━━━━━━━━━\u001b[0m\u001b[37m\u001b[0m \u001b[1m0s\u001b[0m 31ms/step - accuracy: 0.9142 - loss: 0.2758 - val_accuracy: 0.9500 - val_loss: 0.1530\n",
            "Epoch 95/100\n",
            "\u001b[1m3/3\u001b[0m \u001b[32m━━━━━━━━━━━━━━━━━━━━\u001b[0m\u001b[37m\u001b[0m \u001b[1m0s\u001b[0m 31ms/step - accuracy: 0.9025 - loss: 0.2867 - val_accuracy: 0.9500 - val_loss: 0.1512\n",
            "Epoch 96/100\n",
            "\u001b[1m3/3\u001b[0m \u001b[32m━━━━━━━━━━━━━━━━━━━━\u001b[0m\u001b[37m\u001b[0m \u001b[1m0s\u001b[0m 31ms/step - accuracy: 0.8947 - loss: 0.2767 - val_accuracy: 0.9500 - val_loss: 0.1503\n",
            "Epoch 97/100\n",
            "\u001b[1m3/3\u001b[0m \u001b[32m━━━━━━━━━━━━━━━━━━━━\u001b[0m\u001b[37m\u001b[0m \u001b[1m0s\u001b[0m 31ms/step - accuracy: 0.8947 - loss: 0.2855 - val_accuracy: 0.9500 - val_loss: 0.1494\n",
            "Epoch 98/100\n",
            "\u001b[1m3/3\u001b[0m \u001b[32m━━━━━━━━━━━━━━━━━━━━\u001b[0m\u001b[37m\u001b[0m \u001b[1m0s\u001b[0m 31ms/step - accuracy: 0.9103 - loss: 0.2688 - val_accuracy: 0.9500 - val_loss: 0.1488\n",
            "Epoch 99/100\n",
            "\u001b[1m3/3\u001b[0m \u001b[32m━━━━━━━━━━━━━━━━━━━━\u001b[0m\u001b[37m\u001b[0m \u001b[1m0s\u001b[0m 33ms/step - accuracy: 0.9025 - loss: 0.2641 - val_accuracy: 0.9500 - val_loss: 0.1477\n",
            "Epoch 100/100\n",
            "\u001b[1m3/3\u001b[0m \u001b[32m━━━━━━━━━━━━━━━━━━━━\u001b[0m\u001b[37m\u001b[0m \u001b[1m0s\u001b[0m 34ms/step - accuracy: 0.9103 - loss: 0.2680 - val_accuracy: 0.9500 - val_loss: 0.1465\n"
          ]
        }
      ]
    },
    {
      "cell_type": "code",
      "source": [
        "model.get_weights()"
      ],
      "metadata": {
        "colab": {
          "base_uri": "https://localhost:8080/"
        },
        "id": "8K2E1Z5Oupj_",
        "outputId": "d341100c-fcd4-4517-e9df-2a6ffbd21990"
      },
      "execution_count": null,
      "outputs": [
        {
          "output_type": "execute_result",
          "data": {
            "text/plain": [
              "[array([[-0.17268214,  0.12882982,  0.32581884, -0.02327641, -0.45891494,\n",
              "         -0.43052736,  0.19623928, -1.4964367 ,  0.25986552, -2.0081673 ],\n",
              "        [ 1.2279438 , -1.001216  , -0.2510969 , -0.40744773,  0.07058638,\n",
              "         -0.01421999,  0.28389463, -0.05499011,  0.34943113, -0.12801696]],\n",
              "       dtype=float32),\n",
              " array([ 0.16959424, -0.01525802,  0.12024334,  0.01468742,  0.29436496,\n",
              "        -0.11214139,  0.20727138, -0.07022324, -0.02019948, -0.09854022],\n",
              "       dtype=float32),\n",
              " array([[-0.21780163, -0.06863584,  0.20569053,  0.2354715 , -0.255817  ,\n",
              "         -0.61077535,  0.27958912,  0.59140277, -0.45049447, -0.1751888 ],\n",
              "        [ 0.27943945, -0.12298286,  0.33130065, -0.36080045, -0.17198525,\n",
              "          0.10036176, -0.4743641 , -0.07004245, -0.15724814,  0.20765615],\n",
              "        [ 0.24967472,  0.05117131, -0.6128439 ,  0.04654763,  0.5812493 ,\n",
              "          0.76419795, -0.16662477,  0.74975204,  0.6216794 ,  0.19679755],\n",
              "        [ 0.14436038, -0.15979685,  0.14076035, -0.28526688,  0.23328194,\n",
              "          0.13072066,  0.13157035,  0.13243426,  0.39761272, -0.27010542],\n",
              "        [ 0.8092685 , -0.13783687, -0.33357546,  0.39630857,  0.93930364,\n",
              "          0.08914699,  0.45105252,  0.3854526 , -0.0993884 , -0.5753658 ],\n",
              "        [-0.17821823, -0.23576069, -0.43373486, -0.03100721, -0.54659545,\n",
              "          0.07924061,  0.21262665, -0.02684845, -0.40886465,  0.07208161],\n",
              "        [ 0.2752203 , -0.38631463, -0.21183746,  0.21332298,  0.18815763,\n",
              "          0.0509694 , -0.06995524,  0.8470451 , -0.05123515,  0.11813305],\n",
              "        [ 0.03056594, -0.82923424, -0.13172296,  0.26110095,  0.35819876,\n",
              "          0.33782768,  0.03885264,  0.2401858 , -0.5007412 , -0.26727977],\n",
              "        [-0.17626566, -0.06442532,  0.77158797,  0.25174874,  0.02029854,\n",
              "          0.38376093, -0.5591066 ,  0.12243619,  0.051504  , -0.28908858],\n",
              "        [-0.34142178, -0.09085955, -0.5869688 ,  0.3887802 , -0.4804028 ,\n",
              "         -0.29655525,  0.23392093,  0.43243098,  0.39962724,  0.27098015]],\n",
              "       dtype=float32),\n",
              " array([ 0.18916623,  0.        , -0.06040516,  0.1172382 , -0.0182583 ,\n",
              "         0.00501254,  0.07089186,  0.14084013,  0.07365219,  0.00592089],\n",
              "       dtype=float32),\n",
              " array([[-0.15309545,  0.5729621 , -0.01314361,  0.27353087,  0.26253352,\n",
              "         -0.20546046, -0.35276705, -0.5381371 ,  1.0001471 ,  0.44105056],\n",
              "        [ 0.16016231, -0.3914028 ,  0.2753108 ,  0.1666029 , -0.3226687 ,\n",
              "          0.17043255,  0.39465007, -0.6990438 ,  0.56384796, -0.02296634],\n",
              "        [-0.01494998,  0.7817348 ,  0.38944674,  0.04807595, -0.27556694,\n",
              "         -0.1159844 ,  0.5123342 ,  0.25130907, -0.68788296, -0.26648515],\n",
              "        [-0.14391845,  0.4015525 , -0.2822928 ,  0.3617286 , -0.25511536,\n",
              "          0.7396869 ,  0.5023369 , -0.00857857, -0.27025244, -0.12448137],\n",
              "        [ 0.2951313 , -0.3030995 ,  0.20267612,  0.30195436,  0.40313277,\n",
              "          0.25029147, -0.33222023, -0.31208545, -0.07731818,  0.45984   ],\n",
              "        [ 0.0159949 , -0.0170043 , -0.14938654,  0.09786975,  0.10678578,\n",
              "         -0.1664333 , -0.6150532 , -0.06018481,  0.45354486,  0.22238131],\n",
              "        [ 0.5671706 ,  0.18305308, -0.2935299 ,  0.07657751,  0.16576701,\n",
              "         -0.17579323, -0.13209707,  0.1411268 ,  0.29774475,  0.43549645],\n",
              "        [-0.02582244, -0.12897135, -0.10020248,  0.418606  ,  0.08781645,\n",
              "          0.29678026,  0.40090847,  0.46625388,  0.01521179,  0.65387905],\n",
              "        [-0.198126  ,  0.2828197 , -0.05030815, -0.40783986,  0.30064958,\n",
              "         -0.50557184, -0.30992734, -0.06834036,  0.27598703,  0.01906192],\n",
              "        [ 0.01263502,  0.0541611 , -0.28832603, -0.4645405 ,  0.03519139,\n",
              "          0.37883595,  0.64305365,  0.03284669,  0.4318849 ,  0.3235399 ]],\n",
              "       dtype=float32),\n",
              " array([-0.08421011,  0.11139266,  0.05858827,  0.01673388,  0.07032193,\n",
              "         0.11109906,  0.07018182,  0.12110323,  0.15424407,  0.17995073],\n",
              "       dtype=float32),\n",
              " array([[-0.34575593,  0.36655095,  0.3159583 , -0.17523834,  0.01558831,\n",
              "          0.23675911, -0.63108176,  0.20376223, -0.27968267, -0.33144638],\n",
              "        [ 0.01944592, -0.318479  , -0.19714907, -0.26381963, -0.23178522,\n",
              "          0.37685898,  0.39418408,  0.15186526,  0.3913435 , -0.25054297],\n",
              "        [ 0.094635  , -0.05621877,  0.23195657, -0.16183402, -0.03660848,\n",
              "         -0.37285388,  0.29145876,  0.08110418, -0.1466435 , -0.02455999],\n",
              "        [-0.41398063, -0.71232104, -0.5982628 ,  0.34402257,  0.02130592,\n",
              "          0.05364479, -0.5191552 ,  0.35492757,  0.34653553, -0.21364811],\n",
              "        [-0.19761714,  0.5724186 , -0.16901056,  0.22996259, -0.20663427,\n",
              "         -0.31488305,  0.6088798 , -0.42186096,  0.3858494 , -0.18179779],\n",
              "        [ 0.03393479, -0.26269743,  0.11604699, -0.2720685 ,  0.24769263,\n",
              "          0.7345543 ,  0.1082725 , -0.27448884,  0.0119985 ,  0.13477811],\n",
              "        [-0.9417952 , -0.20090595,  0.05548073, -0.49811825, -0.10545468,\n",
              "          0.44279483, -0.05426913,  0.16737117, -0.43725753,  0.66897595],\n",
              "        [ 0.39382017,  0.9303548 , -0.10340273, -0.09424914,  0.44899392,\n",
              "          0.56010574, -0.45141497,  0.00568121,  0.15572327,  0.42721605],\n",
              "        [-0.3607255 , -0.2489962 ,  0.10273317,  0.75313807,  0.2757221 ,\n",
              "         -0.4259578 ,  0.23214017, -0.18423535,  0.6327639 ,  0.01467708],\n",
              "        [-0.73817414, -0.08637664,  0.10638984,  0.51661694, -0.39313814,\n",
              "          0.33482736,  0.44889978,  0.45571348, -0.3506341 ,  0.31640762]],\n",
              "       dtype=float32),\n",
              " array([ 0.        ,  0.        , -0.05270837,  0.07191133, -0.05603651,\n",
              "         0.06836691,  0.11909095, -0.02776188,  0.16121978, -0.00900966],\n",
              "       dtype=float32),\n",
              " array([[-0.30432755],\n",
              "        [-0.03782593],\n",
              "        [-0.18147947],\n",
              "        [ 1.1283901 ],\n",
              "        [ 0.28792593],\n",
              "        [-0.76612747],\n",
              "        [ 0.81894714],\n",
              "        [-0.45354572],\n",
              "        [ 0.5102876 ],\n",
              "        [-0.5537629 ]], dtype=float32),\n",
              " array([0.03024225], dtype=float32)]"
            ]
          },
          "metadata": {},
          "execution_count": 15
        }
      ]
    },
    {
      "cell_type": "code",
      "source": [
        "from mlxtend.plotting import plot_decision_regions\n",
        "plot_decision_regions(X,y.astype('int'), clf=model, legend=2)"
      ],
      "metadata": {
        "colab": {
          "base_uri": "https://localhost:8080/",
          "height": 465
        },
        "id": "h2jKnSGeuuLY",
        "outputId": "6ef911ad-49f6-4d2e-e6f6-9d13007bbdc2"
      },
      "execution_count": null,
      "outputs": [
        {
          "output_type": "stream",
          "name": "stdout",
          "text": [
            "\u001b[1m9600/9600\u001b[0m \u001b[32m━━━━━━━━━━━━━━━━━━━━\u001b[0m\u001b[37m\u001b[0m \u001b[1m10s\u001b[0m 1ms/step\n"
          ]
        },
        {
          "output_type": "execute_result",
          "data": {
            "text/plain": [
              "<Axes: >"
            ]
          },
          "metadata": {},
          "execution_count": 16
        },
        {
          "output_type": "display_data",
          "data": {
            "text/plain": [
              "<Figure size 640x480 with 1 Axes>"
            ],
            "image/png": "[encoded data removed]"
          },
          "metadata": {}
        }
      ]
    },
    {
      "cell_type": "code",
      "source": [
        "(np.random.randn(10,10)*0.01).min()"
      ],
      "metadata": {
        "colab": {
          "base_uri": "https://localhost:8080/"
        },
        "id": "6cQtO9mpuxLI",
        "outputId": "141c2890-cc9b-44ee-bd6e-8a3b0c84004a"
      },
      "execution_count": null,
      "outputs": [
        {
          "output_type": "execute_result",
          "data": {
            "text/plain": [
              "-0.01538420487066039"
            ]
          },
          "metadata": {},
          "execution_count": 58
        }
      ]
    },
    {
      "cell_type": "code",
      "source": [
        "(np.random.randn(10,10)*0.01).max()"
      ],
      "metadata": {
        "colab": {
          "base_uri": "https://localhost:8080/"
        },
        "id": "diiaUiL92T7H",
        "outputId": "82f87541-8dcc-4cb1-a3ff-cf31048421f3"
      },
      "execution_count": null,
      "outputs": [
        {
          "output_type": "execute_result",
          "data": {
            "text/plain": [
              "0.02825126600648443"
            ]
          },
          "metadata": {},
          "execution_count": 59
        }
      ]
    },
    {
      "cell_type": "code",
      "source": [],
      "metadata": {
        "id": "b2DJRNfI3BOE"
      },
      "execution_count": null,
      "outputs": []
    }
  ]
}